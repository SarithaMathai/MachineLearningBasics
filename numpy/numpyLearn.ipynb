{
 "metadata": {
  "language_info": {
   "codemirror_mode": {
    "name": "ipython",
    "version": 3
   },
   "file_extension": ".py",
   "mimetype": "text/x-python",
   "name": "python",
   "nbconvert_exporter": "python",
   "pygments_lexer": "ipython3",
   "version": "3.8.5-final"
  },
  "orig_nbformat": 2,
  "kernelspec": {
   "name": "python3",
   "display_name": "Python 3.8.5 64-bit (conda)",
   "metadata": {
    "interpreter": {
     "hash": "bbaff3bad43e72ef86a08724e2a04c1dc7b916dad0faa2935f126c230f07c1b0"
    }
   }
  }
 },
 "nbformat": 4,
 "nbformat_minor": 2,
 "cells": [
  {
   "cell_type": "code",
   "execution_count": 240,
   "metadata": {},
   "outputs": [],
   "source": [
    "import numpy as np"
   ]
  },
  {
   "source": [
    "# Array Basics\n",
    "## 1 Dimentional Array"
   ],
   "cell_type": "markdown",
   "metadata": {}
  },
  {
   "cell_type": "code",
   "execution_count": 241,
   "metadata": {},
   "outputs": [
    {
     "output_type": "stream",
     "name": "stdout",
     "text": [
      "Array Type int32 , Shape (3,), Dimension 1 \n"
     ]
    }
   ],
   "source": [
    "\n",
    "array1 = np.array([1,2,3])\n",
    "print('Array Type {0} , Shape {1}, Dimension {2} '.format(array1.dtype, array1.shape, array1.ndim))"
   ]
  },
  {
   "source": [
    "## 2 Dimensional Array"
   ],
   "cell_type": "markdown",
   "metadata": {}
  },
  {
   "cell_type": "code",
   "execution_count": 242,
   "metadata": {},
   "outputs": [
    {
     "output_type": "stream",
     "name": "stdout",
     "text": [
      "Array Type int32 , Shape (2, 3), Dimension 2 \n"
     ]
    }
   ],
   "source": [
    "array2 = np.array([[1,2,3], [4,5,6]])\n",
    "print('Array Type {0} , Shape {1}, Dimension {2} '.format(array2.dtype, array2.shape, array2.ndim))"
   ]
  },
  {
   "cell_type": "code",
   "execution_count": 243,
   "metadata": {},
   "outputs": [
    {
     "output_type": "stream",
     "name": "stdout",
     "text": [
      "[[ 1  2  3  4  5  6  7]\n [ 8  9 10 11 12 13 14]]\n[[ 1  2  1  4  5  6  7]\n [ 8  9  2 11 12 20 14]]\n"
     ]
    }
   ],
   "source": [
    "arr = np.array([[1,2,3,4,5,6,7],[8,9,10,11,12,13,14]])\n",
    "print(arr)\n",
    "\n",
    "# Get a specific element [r, c]\n",
    "arr[1, 5]\n",
    "\n",
    "# Get a specific row \n",
    "arr[0, :]\n",
    "\n",
    "# Get a specific column\n",
    "arr[:, 2]\n",
    "\n",
    "# startindex:endindex:stepsize\n",
    "arr[0, 1:-1:2]\n",
    "\n",
    "#assign a value for row 1 and column 5\n",
    "arr[1,5] = 20\n",
    "\n",
    "#assign the column 2 \n",
    "arr[:,2] = [1,2]\n",
    "print(arr)\n"
   ]
  },
  {
   "cell_type": "code",
   "execution_count": 244,
   "metadata": {},
   "outputs": [
    {
     "output_type": "stream",
     "name": "stdout",
     "text": [
      "arr - numpy zeroes 2 * 3 \n [[0. 0. 0.]\n [0. 0. 0.]]\narr - numpy ones 4 * 2 * 2 \n [[[1 1]\n  [1 1]]\n\n [[1 1]\n  [1 1]]\n\n [[1 1]\n  [1 1]]\n\n [[1 1]\n  [1 1]]]\narr - numpy 99 \n [[99 99 99]\n [99 99 99]]\narr - numpy full like  \n [[4 4 4]\n [4 4 4]]\narr - numpy random \n [[0.37952817 0.31414174]\n [0.62978312 0.91738562]\n [0.31309508 0.3699619 ]\n [0.93236732 0.56642955]]\narr - numpy random int \n [[ 2  4 -4]\n [ 7  3  7]\n [ 2  4 -4]]\narr - numpy identity \n [[1. 0. 0. 0. 0.]\n [0. 1. 0. 0. 0.]\n [0. 0. 1. 0. 0.]\n [0. 0. 0. 1. 0.]\n [0. 0. 0. 0. 1.]]\nRepeat array \n [[1 2 3]\n [1 2 3]\n [1 2 3]]  shape -  (3, 3)\nOutput \n [[1. 1. 1. 1. 1.]\n [1. 1. 1. 1. 1.]\n [1. 1. 1. 1. 1.]\n [1. 1. 1. 1. 1.]\n [1. 1. 1. 1. 1.]]\nZ = \n [[0. 0. 0.]\n [0. 9. 0.]\n [0. 0. 0.]]\nFinal  output \n [[1. 1. 1. 1. 1.]\n [1. 0. 0. 0. 1.]\n [1. 0. 9. 0. 1.]\n [1. 0. 0. 0. 1.]\n [1. 1. 1. 1. 1.]]\n"
     ]
    }
   ],
   "source": [
    "# All 0s matrix\n",
    "arr = np.zeros((2,3))\n",
    "print(\"arr - numpy zeroes 2 * 3 \\n\", arr)\n",
    "\n",
    "# All 1s matrix\n",
    "arr = np.ones((4,2,2), dtype='int32')\n",
    "print(\"arr - numpy ones 4 * 2 * 2 \\n\", arr)\n",
    "\n",
    "# Any other number\n",
    "arr = np.full((2,3), 99)\n",
    "print(\"arr - numpy 99 \\n\", arr)\n",
    "\n",
    "# Any other number (full_like)\n",
    "arr = np.full_like(arr, 4)\n",
    "print(\"arr - numpy full like  \\n\", arr)\n",
    "\n",
    "# Random decimal numbers\n",
    "arr = np.random.rand(4,2)\n",
    "print(\"arr - numpy random \\n\", arr)\n",
    "\n",
    "\n",
    "# Random Integer values\n",
    "arr = np.random.randint(-4,8, size=(3,3))\n",
    "print(\"arr - numpy random int \\n\", arr)\n",
    "\n",
    "# The identity matrix\n",
    "arr = np.identity(5)\n",
    "print(\"arr - numpy identity \\n\", arr)\n",
    "\n",
    "# Repeat an array\n",
    "arr = np.array([[1,2,3]])\n",
    "r1 = np.repeat(arr,3, axis=0)\n",
    "print(\"Repeat array \\n\",  r1, \" shape - \" , r1.shape)\n",
    "\n",
    "\n",
    "output = np.ones((5,5))\n",
    "print(\"Output \\n\" , output)\n",
    "\n",
    "z = np.zeros((3,3))\n",
    "z[1,1] = 9\n",
    "print(\"Z = \\n\", z)\n",
    "\n",
    "output[1:-1,1:-1] = z\n",
    "print(\"Final  output \\n\" , output)\n"
   ]
  },
  {
   "source": [
    "## 3 Dimensional Array"
   ],
   "cell_type": "markdown",
   "metadata": {}
  },
  {
   "cell_type": "code",
   "execution_count": 245,
   "metadata": {},
   "outputs": [
    {
     "output_type": "stream",
     "name": "stdout",
     "text": [
      "Array Type int32 , Shape (2, 2, 3), Dimension 3 \n"
     ]
    }
   ],
   "source": [
    "array3 = np.array([[[1,2,3], [4,5,6]], [[7,8,9], [10,11,12]]])\n",
    "print('Array Type {0} , Shape {1}, Dimension {2} '.format(array3.dtype, array3.shape, array3.ndim))"
   ]
  },
  {
   "cell_type": "code",
   "execution_count": 246,
   "metadata": {},
   "outputs": [
    {
     "output_type": "stream",
     "name": "stdout",
     "text": [
      "[[[1 2]\n  [3 4]]\n\n [[5 6]\n  [7 8]]]\n4\n[[[1 2]\n  [9 9]]\n\n [[5 6]\n  [8 8]]]\n"
     ]
    }
   ],
   "source": [
    "arr = np.array([[[1,2],[3,4]],[[5,6],[7,8]]])\n",
    "print(arr)\n",
    "\n",
    "# Get specific element (work outside in)\n",
    "print(arr[0,1,1])\n",
    "\n",
    "# replace \n",
    "arr[:,1,:] = [[9,9],[8,8]]\n",
    "\n",
    "print(arr)"
   ]
  },
  {
   "cell_type": "code",
   "execution_count": 247,
   "metadata": {},
   "outputs": [
    {
     "output_type": "stream",
     "name": "stdout",
     "text": [
      "Math Operation  [1 2 3 4]\n",
      "Math Operation add  [3 4 5 6]\n",
      "Math Operation sub  [1 2 3 4]\n",
      "Math Operation mul  [2 4 6 8]\n",
      "Math Operation div  [1. 2. 3. 4.]\n",
      "Math Operation a + b  [2. 2. 4. 4.]\n",
      "Math Operation power  [ 1.  4.  9. 16.]\n"
     ]
    }
   ],
   "source": [
    "a = np.array([1,2,3,4])\n",
    "print(\"Math Operation \", a)\n",
    "\n",
    "a = a + 2\n",
    "print(\"Math Operation add \", a)\n",
    "\n",
    "a= a - 2\n",
    "print(\"Math Operation sub \", a)\n",
    "\n",
    "a = a * 2\n",
    "print(\"Math Operation mul \", a)\n",
    "\n",
    "a = a / 2\n",
    "print(\"Math Operation div \", a)\n",
    "\n",
    "b = np.array([1,0,1,0])\n",
    "c = a + b\n",
    "print(\"Math Operation a + b \", c)\n",
    "\n",
    "a= a ** 2\n",
    "print(\"Math Operation power \", a)\n"
   ]
  },
  {
   "cell_type": "code",
   "execution_count": 248,
   "metadata": {},
   "outputs": [
    {
     "output_type": "stream",
     "name": "stdout",
     "text": [
      "a  [[1. 1. 1.]\n [1. 1. 1.]]\nb  [[2 2]\n [2 2]\n [2 2]]\nmatmul a and b  [[6. 6.]\n [6. 6.]]\ndot a and b  [[6. 6.]\n [6. 6.]]\nvdot a and b  12.0\na @ b  [[6. 6.]\n [6. 6.]]\nouter a @ b  [[2. 2. 2. 2. 2. 2.]\n [2. 2. 2. 2. 2. 2.]\n [2. 2. 2. 2. 2. 2.]\n [2. 2. 2. 2. 2. 2.]\n [2. 2. 2. 2. 2. 2.]\n [2. 2. 2. 2. 2. 2.]]\n"
     ]
    },
    {
     "output_type": "execute_result",
     "data": {
      "text/plain": [
       "1.0"
      ]
     },
     "metadata": {},
     "execution_count": 248
    }
   ],
   "source": [
    "# Take the sin\n",
    "np.cos(a)\n",
    "\n",
    "# For a lot more (https://docs.scipy.org/doc/numpy/reference/routines.math.html)\n",
    "\n",
    "\"\"\"##### Linear Algebra\"\"\"\n",
    "\n",
    "a = np.ones((2,3))\n",
    "print(\"a \" , a)\n",
    "\n",
    "b = np.full((3,2), 2)\n",
    "print(\"b \", b)\n",
    "\n",
    "print(\"matmul a and b \", np.matmul(a,b))\n",
    "print(\"dot a and b \", np.dot(a,b))\n",
    "print(\"vdot a and b \", np.vdot(a,b))\n",
    "print(\"a @ b \", a@b)\n",
    "print(\"outer a @ b \", np.outer(a,b))\n",
    "\n",
    "\n",
    "# Find the determinant\n",
    "c = np.identity(3)\n",
    "np.linalg.det(c)"
   ]
  },
  {
   "cell_type": "code",
   "execution_count": 249,
   "metadata": {},
   "outputs": [
    {
     "output_type": "stream",
     "name": "stdout",
     "text": [
      "x  1\ny  [3 6]\nz  [5 7 9]\n[[1 2 3 4]\n [5 6 7 8]]\nv1 [1 2 3 4]\nv2 [5 6 7 8]\nvs  [[1 2 3 4]\n [5 6 7 8]\n [1 2 3 4]\n [5 6 7 8]]\nh1 [[1. 1. 1. 1.]\n [1. 1. 1. 1.]]\nh2 [[0. 0.]\n [0. 0.]]\nhs  [[1. 1. 1. 1. 0. 0.]\n [1. 1. 1. 1. 0. 0.]]\n"
     ]
    }
   ],
   "source": [
    "## Reference docs (https://docs.scipy.org/doc/numpy/reference/routines.linalg.html)\n",
    "\n",
    "# Determinant\n",
    "# Trace\n",
    "# Singular Vector Decomposition\n",
    "# Eigenvalues\n",
    "# Matrix Norm\n",
    "# Inverse\n",
    "# Etc...\n",
    "\n",
    "\"\"\"##### Statistics\"\"\"\n",
    "\n",
    "stats = np.array([[1,2,3],[4,5,6]])\n",
    "stats\n",
    "\n",
    "x = np.min(stats)\n",
    "print(\"x \" , x)\n",
    "\n",
    "y = np.max(stats, axis=1)\n",
    "print(\"y \" , y)\n",
    "\n",
    "\n",
    "z = np.sum(stats, axis=0)\n",
    "print(\"z \" , z)\n",
    "\n",
    "\"\"\"### Reorganizing Arrays\"\"\"\n",
    "\n",
    "before = np.array([[1,2,3,4],[5,6,7,8]])\n",
    "print(before)\n",
    "\n",
    "# Vertically stacking vectors\n",
    "v1 = np.array([1,2,3,4])\n",
    "v2 = np.array([5,6,7,8])\n",
    "\n",
    "vs = np.vstack([v1,v2,v1,v2])\n",
    "print(\"v1\" , v1)\n",
    "print(\"v2\" , v2)\n",
    "print(\"vs \" , vs)\n",
    "\n",
    "# Horizontal  stack\n",
    "h1 = np.ones((2,4))\n",
    "h2 = np.zeros((2,2))\n",
    "\n",
    "hs = np.hstack((h1,h2))\n",
    "print(\"h1\" , h1)\n",
    "print(\"h2\" , h2)\n",
    "print(\"hs \" , hs)\n"
   ]
  }
 ]
}